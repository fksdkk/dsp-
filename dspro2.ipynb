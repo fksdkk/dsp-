{
 "cells": [
  {
   "cell_type": "code",
   "execution_count": 1,
   "metadata": {},
   "outputs": [
    {
     "name": "stderr",
     "output_type": "stream",
     "text": [
      "/Users/kidachikenkiyoshi/Library/Python/3.9/lib/python/site-packages/urllib3/__init__.py:34: NotOpenSSLWarning: urllib3 v2.0 only supports OpenSSL 1.1.1+, currently the 'ssl' module is compiled with 'LibreSSL 2.8.3'. See: https://github.com/urllib3/urllib3/issues/3020\n",
      "  warnings.warn(\n"
     ]
    }
   ],
   "source": [
    "from bs4 import BeautifulSoup\n",
    "import requests\n",
    "import sqlite3"
   ]
  },
  {
   "cell_type": "code",
   "execution_count": 2,
   "metadata": {},
   "outputs": [],
   "source": [
    "url = 'https://npb.jp/bis/teams/rst_m.html'\n",
    "\n",
    "r = requests.get(url)"
   ]
  },
  {
   "cell_type": "code",
   "execution_count": 11,
   "metadata": {},
   "outputs": [
    {
     "name": "stdout",
     "output_type": "stream",
     "text": [
      "21,åäºãçäºº,1965.04.20,,\n",
      "11,ä½ãæ¨ãåé¼,1994.06.08,181,83,å³,å³,\n",
      "12,ç³å·ãæ­©,1988.04.11,186,80,å³,å³,\n",
      "14,å°å³¶ãåå,1996.07.07,177,85,å·¦,å·¦,\n",
      "15,ç¾é¦¬ãå­¦,1986.09.19,169,75,å³,å·¦,\n",
      "16,ç¨®å¸ãç¯¤æ,1998.09.07,183,88,å³,å³,\n",
      "17,ä½ãæ¨ãæå¸,2001.11.03,192,92,å³,å³,\n",
      "18,äºæ¨ãåº·å¤ª,1995.08.01,190,85,å³,å³,\n",
      "19,åå·ãä¾å·±,1989.07.05,181,87,å³,å³,\n",
      "20,æ±æ¢ãå¤§æ¨¹,1991.08.15,178,85,å³,å³,\n",
      "24,æ±å¦»ãåè¼,1996.04.04,172,80,å³,å³,\n",
      "28,èå°ãåç,2000.06.13,183,93,å³,å·¦,\n",
      "29,è¥¿éãåå£«,1991.03.06,183,90,å³,å³,\n",
      "30,å»£çãæ¦ä¹,1997.12.03,175,83,å³,å³,\n",
      "33,å«æ¨ãå½¬,1997.05.26,180,94,å³,å³,\n",
      "34,é«éãè©æ±°,1998.08.13,183,87,å·¦,å·¦,\n",
      "35,ç°ä¸­ãæ´ä¹,2004.06.06,186,92,å³,å·¦,\n",
      "36,åæ¬ãåå£«é,1994.09.09,179,75,å·¦,å·¦,\n",
      "37,å°éãé,1996.10.23,175,78,å³,å³,\n",
      "40,è¥¿æãå¤©è£,1993.05.06,177,92,å³,å³,3/7 æ¥æ¬ãã ããç§»ç±\n",
      "41,ã«ã¹ãã£ã¼ã¨,1995.03.10,190,96,å³,å³,\n",
      "42,ã¡ã«ã»ãã¹,1994.03.08,188,82,å·¦,å·¦å³,\n",
      "43,ç§å±±ãæ­£é²,2003.04.29,174,80,å·¦,å·¦,\n",
      "46,å²©ä¸ãå¤§è¼,1996.10.02,182,90,å³,å³,\n",
      "47,é´æ¨ãæ­æ±°,1998.09.07,175,80,å·¦,å·¦,\n",
      "48,ä¸­æãç¨å¼¥,1996.07.08,178,84,å·¦,å·¦,\n",
      "49,æ¬åãéä¹,1997.10.02,176,82,å·¦,å·¦,\n",
      "52,çç°ãç´ä¹,1989.10.25,178,80,å³,å³,\n",
      "54,æ¾¤æãæä¸,1988.04.03,184,105,å³,å³,\n",
      "55,ãã«ãã¢,1993.05.09,188,84,å³,å³,2/21 æ¯éä¸é¸æç»é²\n",
      "56,ä¸­æ£®ãä¿ä»,2002.05.29,182,90,å³,å·¦,\n",
      "58,æ²³æãèª¬äºº,1997.06.18,192,87,å³,å³,\n",
      "60,æ¨ªå±±ãé¸äºº,2001.08.05,179,86,å³,å³,\n",
      "62,æ£®ãé¼å¤§æ,1999.04.22,180,87,å³,å·¦,\n",
      "64,ä½è¤ãå¥¨ç,1998.06.02,177,78,å·¦,å·¦,\n",
      "65,åå±ãè±ªäºº,2000.04.02,191,92,å³,å³,\n",
      "66,æ¾¤ç°ãå­ä½,1994.04.27,178,96,å³,å·¦,7/27 è²æé¸æããæ¯éä¸é¸æã¸ç§»è¡\n",
      "92,å½åãä½æ¨¹,1991.09.24,196,106,å³,å³,\n",
      "2,æ¾å·ãèç,2003.10.20,178,98,å³,å³,\n",
      "27,ç°æãé¾å¼,1994.05.13,172,81,å³,å³,\n",
      "32,ä½è¤ãé½å¿ä¹,1998.01.27,181,86,å³,å·¦,\n",
      "45,æ¤ç°ãå°å¤ª,1997.12.18,180,86,å³,å³,\n",
      "53,æ±æãç´ä¹,1992.05.06,176,80,å³,å³,\n",
      "99,æ¿æ²¼ãåå,1993.05.12,180,86,å³,å³,\n",
      "00,æ± ç°ãæ¥ç¿,1999.12.11,180,95,å³,å³,\n",
      "4,è¤å²¡ãè£å¤§,1993.08.08,178,77,å³,å·¦,\n",
      "5,å®ç°ãå°æ²,1999.04.15,188,95,å³,å·¦,\n",
      "8,ä¸­æãå¥¨å¾,1992.05.28,180,88,å³,å³,\n",
      "10,åæãç¯¤è¼,2000.11.07,171,70,å³,å³,\n",
      "13,å¹³æ²¢ãå¤§æ²³,1997.12.24,176,80,å³,å·¦,\n",
      "23,ä¸æ¨ãäº®,1991.10.25,175,78,å³,å³,\n",
      "39,å¤§ä¸ãèª ä¸é,1997.11.03,171,89,å³,å³,\n",
      "44,äºä¸ãæ´å,1989.07.03,180,115,å³,å³,\n",
      "57,å°å·ãé¾æ,1998.04.05,171,72,å³,å·¦,\n",
      "67,è¶è°·ãå¥å¤ª,1998.01.16,186,90,å³,å³,\n",
      "68,éç°ãåªå¤ª,2005.02.12,183,83,å³,å·¦,\n",
      "72,ãã­ãã½ã¼,1994.03.15,180,92,å³,å³,7/30 æ¯éä¸é¸æç»é²\n",
      "0,è»éãè²´å¸,1985.10.21,172,75,å³,å³,\n",
      "1,è¤åãæ­å¤§,2000.05.06,181,80,å·¦,å·¦,\n",
      "3,è§ä¸­ãåä¹,1987.05.25,180,85,å³,å·¦,\n",
      "7,ç¦ç°ãç§å¹³,1989.02.10,182,77,å³,å·¦,\n",
      "22,ãã©ã³ã³,1991.09.14,196,108,å·¦,å·¦,2/15 æ¯éä¸é¸æç»é²\n",
      "25,å²¡ãå¤§æµ·,1991.07.15,185,80,å³,å³,\n",
      "31,èéãåå£«,1993.05.06,171,83,å³,å·¦,\n",
      "38,é«é¨ãçæ,1997.12.11,178,72,å³,å·¦,\n",
      "50,ç³å·ãæå¾,1993.04.27,178,80,å³,å³,7/4 å·¨äººããç§»ç±\n",
      "51,å±±å£ãèªè¼,2000.08.18,183,97,å³,å³,\n",
      "59,è¥¿å·ãåç¥,2002.04.19,186,98,å³,å³,\n",
      "61,å±±æ¬ãå¤§æ,2002.08.09,180,90,å³,å³,\n",
      "63,åç°ãåº·å£«æ,1999.01.14,185,77,å·¦,å·¦,\n",
      "120,ç°ä¸­ãæ¥åº,2003.08.23,180,75,å³,å³,\n",
      "121,åè¥ãæä¹,1995.07.07,186,90,å·¦,å·¦,\n",
      "124,å¤è°·ãæé,2000.04.21,183,83,å³,å³,\n",
      "125,æ°¸å³¶ç°ãè¼æ,2003.11.30,180,85,å³,å³,\n",
      "127,åå·ãæ æ,2005.03.14,185,82,å·¦,å·¦,\n",
      "128,ç½æ¿±ãå¿«èµ·,2004.07.05,192,87,å³,å³,\n",
      "131,ãã§ãªã¹,1999.08.19,188,87,å·¦,å·¦,2/6 è²æé¸æç»é²\n",
      "122,è°·å·ãå¯äºº,2002.05.27,178,82,å³,å³,\n",
      "126,æå±±ãäº®ä»,2003.11.12,188,113,å³,å³,\n",
      "123,éæ°´ãå°å¤§,2000.10.26,174,67,å³,å³,\n",
      "129,ååãçå,2004.10.07,188,78,å³,å³,\n",
      "130,é»å·ãå±æ,2004.04.05,178,75,å³,å³,\n",
      "133,ã¢ãã¹ãã«,1999.03.11,193,106,å³,å³,4/22 è²æé¸æç»é²\n"
     ]
    }
   ],
   "source": [
    "soup = BeautifulSoup(r.text, 'html.parser')\n",
    "\n",
    "# Extract data\n",
    "player_data = []\n",
    "for player_row in soup.find_all('tr', class_='rosterPlayer'):\n",
    "    player_info = [data.text.strip() for data in player_row.find_all('td')]\n",
    "    player_data.append(','.join(player_info))\n",
    "\n",
    "# Print the result\n",
    "print('\\n'.join(player_data))"
   ]
  },
  {
   "cell_type": "code",
   "execution_count": 27,
   "metadata": {},
   "outputs": [
    {
     "ename": "NameError",
     "evalue": "name 'detected_encoding' is not defined",
     "output_type": "error",
     "traceback": [
      "\u001b[0;31m---------------------------------------------------------------------------\u001b[0m",
      "\u001b[0;31mNameError\u001b[0m                                 Traceback (most recent call last)",
      "\u001b[1;32m/Users/kidachikenkiyoshi/dspro2/dspro2/dspro2.ipynb セル 4\u001b[0m line \u001b[0;36m9\n\u001b[1;32m      <a href='vscode-notebook-cell:/Users/kidachikenkiyoshi/dspro2/dspro2/dspro2.ipynb#X24sZmlsZQ%3D%3D?line=5'>6</a>\u001b[0m     detected_encoding \u001b[39m=\u001b[39m chardet\u001b[39m.\u001b[39mdetect(input_text)[\u001b[39m'\u001b[39m\u001b[39mencoding\u001b[39m\u001b[39m'\u001b[39m]\n\u001b[1;32m      <a href='vscode-notebook-cell:/Users/kidachikenkiyoshi/dspro2/dspro2/dspro2.ipynb#X24sZmlsZQ%3D%3D?line=7'>8</a>\u001b[0m     \u001b[39m# 文字コードを修正\u001b[39;00m\n\u001b[0;32m----> <a href='vscode-notebook-cell:/Users/kidachikenkiyoshi/dspro2/dspro2/dspro2.ipynb#X24sZmlsZQ%3D%3D?line=8'>9</a>\u001b[0m \u001b[39mif\u001b[39;00m detected_encoding:\n\u001b[1;32m     <a href='vscode-notebook-cell:/Users/kidachikenkiyoshi/dspro2/dspro2/dspro2.ipynb#X24sZmlsZQ%3D%3D?line=9'>10</a>\u001b[0m     fixed_text \u001b[39m=\u001b[39m input_text\u001b[39m.\u001b[39mdecode(detected_encoding, errors\u001b[39m=\u001b[39m\u001b[39m'\u001b[39m\u001b[39mreplace\u001b[39m\u001b[39m'\u001b[39m)\u001b[39m.\u001b[39mencode(\u001b[39m'\u001b[39m\u001b[39mutf-8\u001b[39m\u001b[39m'\u001b[39m)\n\u001b[1;32m     <a href='vscode-notebook-cell:/Users/kidachikenkiyoshi/dspro2/dspro2/dspro2.ipynb#X24sZmlsZQ%3D%3D?line=10'>11</a>\u001b[0m \u001b[39melse\u001b[39;00m:\n\u001b[1;32m     <a href='vscode-notebook-cell:/Users/kidachikenkiyoshi/dspro2/dspro2/dspro2.ipynb#X24sZmlsZQ%3D%3D?line=11'>12</a>\u001b[0m     \u001b[39m# 文字コードが検出できない場合、Beautiful SoupのUnicodeDammitを使用\u001b[39;00m\n",
      "\u001b[0;31mNameError\u001b[0m: name 'detected_encoding' is not defined"
     ]
    }
   ],
   "source": [
    "import chardet\n",
    "from bs4 import UnicodeDammit\n",
    "\n",
    "def fix_encoding(input_text):\n",
    "    # 文字コードを検出\n",
    "    detected_encoding = chardet.detect(input_text)['encoding']\n",
    "\n",
    "    # 文字コードを修正\n",
    "if detected_encoding:\n",
    "    fixed_text = input_text.decode(detected_encoding, errors='replace').encode('utf-8')\n",
    "else:\n",
    "    # 文字コードが検出できない場合、Beautiful SoupのUnicodeDammitを使用\n",
    "    dammit = UnicodeDammit(input_text, is_html=True)\n",
    "    fixed_text = dammit.unicode_markup.encode('utf-8')\n",
    "\n",
    "return fixed_text\n",
    "\n",
    "\n",
    "# 修正前の文字列\n",
    "broken_text = 'いろいろなところが文字化けしたテキスト'\n",
    "\n",
    "# 文字コード修正\n",
    "fixed_text = fix_encoding(broken_text)\n",
    "\n",
    "# 修正後の文字列を表示\n",
    "print(fixed_text)\n",
    "\n"
   ]
  },
  {
   "cell_type": "code",
   "execution_count": 3,
   "metadata": {},
   "outputs": [
    {
     "ename": "NameError",
     "evalue": "name 'path' is not defined",
     "output_type": "error",
     "traceback": [
      "\u001b[0;31m---------------------------------------------------------------------------\u001b[0m",
      "\u001b[0;31mNameError\u001b[0m                                 Traceback (most recent call last)",
      "\u001b[1;32m/Users/kidachikenkiyoshi/dspro2/dspro2/dspro2.ipynb セル 3\u001b[0m line \u001b[0;36m2\n\u001b[1;32m      <a href='vscode-notebook-cell:/Users/kidachikenkiyoshi/dspro2/dspro2/dspro2.ipynb#X20sZmlsZQ%3D%3D?line=0'>1</a>\u001b[0m \u001b[39m# 1．DBに接続する\u001b[39;00m\n\u001b[0;32m----> <a href='vscode-notebook-cell:/Users/kidachikenkiyoshi/dspro2/dspro2/dspro2.ipynb#X20sZmlsZQ%3D%3D?line=1'>2</a>\u001b[0m con \u001b[39m=\u001b[39m sqlite3\u001b[39m.\u001b[39mconnect(path \u001b[39m+\u001b[39m db_name)\n\u001b[1;32m      <a href='vscode-notebook-cell:/Users/kidachikenkiyoshi/dspro2/dspro2/dspro2.ipynb#X20sZmlsZQ%3D%3D?line=2'>3</a>\u001b[0m \u001b[39m# print(type(con))\u001b[39;00m\n\u001b[1;32m      <a href='vscode-notebook-cell:/Users/kidachikenkiyoshi/dspro2/dspro2/dspro2.ipynb#X20sZmlsZQ%3D%3D?line=3'>4</a>\u001b[0m \n\u001b[1;32m      <a href='vscode-notebook-cell:/Users/kidachikenkiyoshi/dspro2/dspro2/dspro2.ipynb#X20sZmlsZQ%3D%3D?line=4'>5</a>\u001b[0m \u001b[39m# 2．SQLを実行するためのオブジェクトを取得\u001b[39;00m\n\u001b[1;32m      <a href='vscode-notebook-cell:/Users/kidachikenkiyoshi/dspro2/dspro2/dspro2.ipynb#X20sZmlsZQ%3D%3D?line=5'>6</a>\u001b[0m cur \u001b[39m=\u001b[39m con\u001b[39m.\u001b[39mcursor()\n",
      "\u001b[0;31mNameError\u001b[0m: name 'path' is not defined"
     ]
    }
   ],
   "source": [
    "# 1．DBに接続する\n",
    "con = sqlite3.connect(path + db_name)\n",
    "# print(type(con))\n",
    "\n",
    "# 2．SQLを実行するためのオブジェクトを取得\n",
    "cur = con.cursor()\n",
    "\n",
    "# 3．SQLを用意\n",
    "# SELECT * FROM テーブル名;\n",
    "# *の部分は取得したい列の名前をカンマ区切りで指定することもできる\n",
    "sql_select = 'SELECT * FROM gitinfo;'\n",
    "\n",
    "# 4．SQLを実行\n",
    "cur.execute(sql_select)\n",
    "\n",
    "for r in cur:\n",
    "  print(r)\n",
    "\n",
    "# 6．DBへの接続を閉じる\n",
    "con.close()]]\n"
   ]
  }
 ],
 "metadata": {
  "kernelspec": {
   "display_name": "Python 3",
   "language": "python",
   "name": "python3"
  },
  "language_info": {
   "codemirror_mode": {
    "name": "ipython",
    "version": 3
   },
   "file_extension": ".py",
   "mimetype": "text/x-python",
   "name": "python",
   "nbconvert_exporter": "python",
   "pygments_lexer": "ipython3",
   "version": "3.9.6"
  }
 },
 "nbformat": 4,
 "nbformat_minor": 2
}
