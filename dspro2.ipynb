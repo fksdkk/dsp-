{
 "cells": [
  {
   "cell_type": "code",
   "execution_count": 4,
   "metadata": {},
   "outputs": [],
   "source": [
    "from bs4 import BeautifulSoup\n",
    "import requests\n",
    "import sqlite3"
   ]
  },
  {
   "cell_type": "code",
   "execution_count": 5,
   "metadata": {},
   "outputs": [],
   "source": [
    "url = 'https://npb.jp/bis/teams/rst_m.html'\n",
    "\n",
    "r = requests.get(url)"
   ]
  },
  {
   "cell_type": "markdown",
   "metadata": {},
   "source": [
    "ここでスクレイピング"
   ]
  },
  {
   "cell_type": "code",
   "execution_count": null,
   "metadata": {},
   "outputs": [],
   "source": []
  },
  {
   "cell_type": "code",
   "execution_count": null,
   "metadata": {},
   "outputs": [],
   "source": [
    "# 1．DBに接続する\n",
    "con = sqlite3.connect(path + db_name)\n",
    "# print(type(con))\n",
    "\n",
    "# 2．SQLを実行するためのオブジェクトを取得\n",
    "cur = con.cursor()\n",
    "\n",
    "# 3．SQLを用意\n",
    "# SELECT * FROM テーブル名;\n",
    "# *の部分は取得したい列の名前をカンマ区切りで指定することもできる\n",
    "sql_select = 'SELECT * FROM gitinfo;'\n",
    "\n",
    "# 4．SQLを実行\n",
    "cur.execute(sql_select)\n",
    "\n",
    "for r in cur:\n",
    "  print(r)\n",
    "\n",
    "# 6．DBへの接続を閉じる\n",
    "con.close()"
   ]
  }
 ],
 "metadata": {
  "kernelspec": {
   "display_name": "Python 3",
   "language": "python",
   "name": "python3"
  },
  "language_info": {
   "codemirror_mode": {
    "name": "ipython",
    "version": 3
   },
   "file_extension": ".py",
   "mimetype": "text/x-python",
   "name": "python",
   "nbconvert_exporter": "python",
   "pygments_lexer": "ipython3",
   "version": "3.9.6"
  }
 },
 "nbformat": 4,
 "nbformat_minor": 2
}
